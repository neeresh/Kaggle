{
 "cells": [
  {
   "cell_type": "code",
   "execution_count": 1,
   "id": "a8359247",
   "metadata": {},
   "outputs": [],
   "source": [
    "import pandas as pd"
   ]
  },
  {
   "cell_type": "code",
   "execution_count": 2,
   "id": "c6fc04a2",
   "metadata": {},
   "outputs": [],
   "source": [
    "X_train = pd.read_csv('xtrain.csv')\n",
    "X_test = pd.read_csv('xtest.csv')\n",
    "\n",
    "y_train = pd.read_csv('ytrain.csv')\n",
    "y_test = pd.read_csv('ytest.csv')"
   ]
  },
  {
   "cell_type": "code",
   "execution_count": 3,
   "id": "e2787584",
   "metadata": {},
   "outputs": [],
   "source": [
    "def mappings(value):\n",
    "    \n",
    "    map_dict = {'Charged Off': 0, 'Fully Paid': 1}\n",
    "    \n",
    "    return map_dict[value]"
   ]
  },
  {
   "cell_type": "code",
   "execution_count": 4,
   "id": "641e6ee2",
   "metadata": {},
   "outputs": [],
   "source": [
    "y_train = y_train['loan_status'].apply(lambda x: mappings(x))\n",
    "y_test = y_test['loan_status'].apply(lambda x: mappings(x))"
   ]
  },
  {
   "cell_type": "code",
   "execution_count": null,
   "id": "6b5e7b0e",
   "metadata": {},
   "outputs": [],
   "source": []
  },
  {
   "cell_type": "markdown",
   "id": "a37b00fa",
   "metadata": {},
   "source": [
    "# Creating the Model"
   ]
  },
  {
   "cell_type": "code",
   "execution_count": 5,
   "id": "da4b18bb",
   "metadata": {},
   "outputs": [],
   "source": [
    "import tensorflow as tf\n",
    "from tensorflow.keras.models import Sequential\n",
    "from tensorflow.keras.layers import Dense, Dropout"
   ]
  },
  {
   "cell_type": "code",
   "execution_count": 6,
   "id": "5bb924fb",
   "metadata": {},
   "outputs": [
    {
     "data": {
      "text/plain": [
       "(277221, 76)"
      ]
     },
     "execution_count": 6,
     "metadata": {},
     "output_type": "execute_result"
    }
   ],
   "source": [
    "X_train.shape"
   ]
  },
  {
   "cell_type": "code",
   "execution_count": null,
   "id": "962273bb",
   "metadata": {},
   "outputs": [],
   "source": []
  },
  {
   "cell_type": "code",
   "execution_count": 7,
   "id": "aacb98c2",
   "metadata": {},
   "outputs": [
    {
     "ename": "NameError",
     "evalue": "name 'datetime' is not defined",
     "output_type": "error",
     "traceback": [
      "\u001b[1;31m---------------------------------------------------------------------------\u001b[0m",
      "\u001b[1;31mNameError\u001b[0m                                 Traceback (most recent call last)",
      "Input \u001b[1;32mIn [7]\u001b[0m, in \u001b[0;36m<cell line: 8>\u001b[1;34m()\u001b[0m\n\u001b[0;32m      5\u001b[0m log_directory \u001b[38;5;241m=\u001b[39m \u001b[38;5;124m'\u001b[39m\u001b[38;5;124mlogs\u001b[39m\u001b[38;5;130;01m\\\\\u001b[39;00m\u001b[38;5;124mfit\u001b[39m\u001b[38;5;124m'\u001b[39m\n\u001b[0;32m      7\u001b[0m \u001b[38;5;66;03m# OPTIONAL: ADD A TIMESTAMP FOR UNIQUE FOLDER\u001b[39;00m\n\u001b[1;32m----> 8\u001b[0m timestamp \u001b[38;5;241m=\u001b[39m \u001b[43mdatetime\u001b[49m\u001b[38;5;241m.\u001b[39mnow()\u001b[38;5;241m.\u001b[39mstrftime(\u001b[38;5;124m\"\u001b[39m\u001b[38;5;124m%\u001b[39m\u001b[38;5;124mY-\u001b[39m\u001b[38;5;124m%\u001b[39m\u001b[38;5;124mm-\u001b[39m\u001b[38;5;132;01m%d\u001b[39;00m\u001b[38;5;124m--\u001b[39m\u001b[38;5;124m%\u001b[39m\u001b[38;5;124mH\u001b[39m\u001b[38;5;124m%\u001b[39m\u001b[38;5;124mM\u001b[39m\u001b[38;5;124m\"\u001b[39m)\n\u001b[0;32m      9\u001b[0m log_directory \u001b[38;5;241m=\u001b[39m log_directory \u001b[38;5;241m+\u001b[39m \u001b[38;5;124m'\u001b[39m\u001b[38;5;130;01m\\\\\u001b[39;00m\u001b[38;5;124m'\u001b[39m \u001b[38;5;241m+\u001b[39m timestamp\n\u001b[0;32m     12\u001b[0m board \u001b[38;5;241m=\u001b[39m TensorBoard(log_dir\u001b[38;5;241m=\u001b[39mlog_directory,histogram_freq\u001b[38;5;241m=\u001b[39m\u001b[38;5;241m1\u001b[39m,\n\u001b[0;32m     13\u001b[0m     write_graph\u001b[38;5;241m=\u001b[39m\u001b[38;5;28;01mTrue\u001b[39;00m,\n\u001b[0;32m     14\u001b[0m     write_images\u001b[38;5;241m=\u001b[39m\u001b[38;5;28;01mTrue\u001b[39;00m,\n\u001b[0;32m     15\u001b[0m     update_freq\u001b[38;5;241m=\u001b[39m\u001b[38;5;124m'\u001b[39m\u001b[38;5;124mepoch\u001b[39m\u001b[38;5;124m'\u001b[39m,\n\u001b[0;32m     16\u001b[0m     profile_batch\u001b[38;5;241m=\u001b[39m\u001b[38;5;241m2\u001b[39m,\n\u001b[0;32m     17\u001b[0m     embeddings_freq\u001b[38;5;241m=\u001b[39m\u001b[38;5;241m1\u001b[39m)\n",
      "\u001b[1;31mNameError\u001b[0m: name 'datetime' is not defined"
     ]
    }
   ],
   "source": [
    "from tensorflow.keras.callbacks import EarlyStopping,TensorBoard\n",
    "import datetime\n",
    "\n",
    "early_stop = EarlyStopping(monitor='val_loss', mode='min', verbose=1, patience=10)\n",
    "\n",
    "log_directory = 'logs\\\\fit'\n",
    "\n",
    "# OPTIONAL: ADD A TIMESTAMP FOR UNIQUE FOLDER\n",
    "timestamp = datetime.now().strftime(\"%Y-%m-%d--%H%M\")\n",
    "log_directory = log_directory + '\\\\' + timestamp\n",
    "\n",
    "\n",
    "board = TensorBoard(log_dir=log_directory,histogram_freq=1,\n",
    "    write_graph=True,\n",
    "    write_images=True,\n",
    "    update_freq='epoch',\n",
    "    profile_batch=2,\n",
    "    embeddings_freq=1)"
   ]
  },
  {
   "cell_type": "code",
   "execution_count": null,
   "id": "38a24785",
   "metadata": {},
   "outputs": [],
   "source": []
  },
  {
   "cell_type": "code",
   "execution_count": null,
   "id": "f1f35488",
   "metadata": {},
   "outputs": [],
   "source": []
  },
  {
   "cell_type": "code",
   "execution_count": 7,
   "id": "19c5de28",
   "metadata": {
    "scrolled": true
   },
   "outputs": [
    {
     "name": "stdout",
     "output_type": "stream",
     "text": [
      "Epoch 1/30\n",
      "1083/1083 [==============================] - 6s 5ms/step - loss: 0.3735 - accuracy: 0.8483 - val_loss: 0.2735 - val_accuracy: 0.8864\n",
      "Epoch 2/30\n",
      "1083/1083 [==============================] - 6s 5ms/step - loss: 0.2779 - accuracy: 0.8868 - val_loss: 0.2626 - val_accuracy: 0.8874\n",
      "Epoch 3/30\n",
      "1083/1083 [==============================] - 6s 6ms/step - loss: 0.2690 - accuracy: 0.8880 - val_loss: 0.2611 - val_accuracy: 0.8875\n",
      "Epoch 4/30\n",
      "1083/1083 [==============================] - 6s 5ms/step - loss: 0.2661 - accuracy: 0.8878 - val_loss: 0.2620 - val_accuracy: 0.8874\n",
      "Epoch 5/30\n",
      "1083/1083 [==============================] - 6s 6ms/step - loss: 0.2646 - accuracy: 0.8879 - val_loss: 0.2611 - val_accuracy: 0.8874\n",
      "Epoch 6/30\n",
      "1083/1083 [==============================] - 6s 5ms/step - loss: 0.2639 - accuracy: 0.8878 - val_loss: 0.2608 - val_accuracy: 0.8873\n",
      "Epoch 7/30\n",
      "1083/1083 [==============================] - 6s 5ms/step - loss: 0.2634 - accuracy: 0.8882 - val_loss: 0.2602 - val_accuracy: 0.8876\n",
      "Epoch 8/30\n",
      "1083/1083 [==============================] - 6s 5ms/step - loss: 0.2632 - accuracy: 0.8880 - val_loss: 0.2625 - val_accuracy: 0.8874\n",
      "Epoch 9/30\n",
      "1083/1083 [==============================] - 6s 5ms/step - loss: 0.2629 - accuracy: 0.8881 - val_loss: 0.2621 - val_accuracy: 0.8872\n",
      "Epoch 10/30\n",
      "1083/1083 [==============================] - 6s 5ms/step - loss: 0.2626 - accuracy: 0.8880 - val_loss: 0.2623 - val_accuracy: 0.8875\n",
      "Epoch 11/30\n",
      "1083/1083 [==============================] - 6s 5ms/step - loss: 0.2626 - accuracy: 0.8881 - val_loss: 0.2611 - val_accuracy: 0.8877\n",
      "Epoch 12/30\n",
      "1083/1083 [==============================] - 6s 5ms/step - loss: 0.2625 - accuracy: 0.8880 - val_loss: 0.2607 - val_accuracy: 0.8874\n",
      "Epoch 13/30\n",
      "1083/1083 [==============================] - 6s 5ms/step - loss: 0.2625 - accuracy: 0.8880 - val_loss: 0.2602 - val_accuracy: 0.8868\n",
      "Epoch 14/30\n",
      "1083/1083 [==============================] - 6s 5ms/step - loss: 0.2620 - accuracy: 0.8884 - val_loss: 0.2608 - val_accuracy: 0.8875\n",
      "Epoch 15/30\n",
      "1083/1083 [==============================] - 6s 5ms/step - loss: 0.2621 - accuracy: 0.8881 - val_loss: 0.2601 - val_accuracy: 0.8875\n",
      "Epoch 16/30\n",
      "1083/1083 [==============================] - 7s 6ms/step - loss: 0.2621 - accuracy: 0.8881 - val_loss: 0.2612 - val_accuracy: 0.8874\n",
      "Epoch 17/30\n",
      "1083/1083 [==============================] - 6s 6ms/step - loss: 0.2619 - accuracy: 0.8879 - val_loss: 0.2611 - val_accuracy: 0.8876\n",
      "Epoch 18/30\n",
      "1083/1083 [==============================] - 7s 6ms/step - loss: 0.2622 - accuracy: 0.8880 - val_loss: 0.2603 - val_accuracy: 0.8876\n",
      "Epoch 19/30\n",
      "1083/1083 [==============================] - 7s 6ms/step - loss: 0.2619 - accuracy: 0.8882 - val_loss: 0.2607 - val_accuracy: 0.8870\n",
      "Epoch 20/30\n",
      "1083/1083 [==============================] - 6s 6ms/step - loss: 0.2619 - accuracy: 0.8881 - val_loss: 0.2601 - val_accuracy: 0.8876\n",
      "Epoch 21/30\n",
      "1083/1083 [==============================] - 6s 6ms/step - loss: 0.2619 - accuracy: 0.8879 - val_loss: 0.2604 - val_accuracy: 0.8875\n",
      "Epoch 22/30\n",
      "1083/1083 [==============================] - 7s 6ms/step - loss: 0.2615 - accuracy: 0.8882 - val_loss: 0.2596 - val_accuracy: 0.8879\n",
      "Epoch 23/30\n",
      "1083/1083 [==============================] - 6s 6ms/step - loss: 0.2616 - accuracy: 0.8882 - val_loss: 0.2605 - val_accuracy: 0.8875\n",
      "Epoch 24/30\n",
      "1083/1083 [==============================] - 6s 6ms/step - loss: 0.2613 - accuracy: 0.8880 - val_loss: 0.2615 - val_accuracy: 0.8874\n",
      "Epoch 25/30\n",
      "1083/1083 [==============================] - 6s 6ms/step - loss: 0.2612 - accuracy: 0.8884 - val_loss: 0.2596 - val_accuracy: 0.8875\n",
      "Epoch 26/30\n",
      "1083/1083 [==============================] - 6s 6ms/step - loss: 0.2616 - accuracy: 0.8882 - val_loss: 0.2604 - val_accuracy: 0.8874\n",
      "Epoch 27/30\n",
      "1083/1083 [==============================] - 6s 6ms/step - loss: 0.2611 - accuracy: 0.8883 - val_loss: 0.2607 - val_accuracy: 0.8875\n",
      "Epoch 28/30\n",
      "1083/1083 [==============================] - 6s 5ms/step - loss: 0.2611 - accuracy: 0.8881 - val_loss: 0.2601 - val_accuracy: 0.8875\n",
      "Epoch 29/30\n",
      "1083/1083 [==============================] - 6s 6ms/step - loss: 0.2609 - accuracy: 0.8881 - val_loss: 0.2601 - val_accuracy: 0.8875\n",
      "Epoch 30/30\n",
      "1083/1083 [==============================] - 6s 5ms/step - loss: 0.2611 - accuracy: 0.8879 - val_loss: 0.2598 - val_accuracy: 0.8876\n"
     ]
    },
    {
     "data": {
      "text/plain": [
       "<keras.callbacks.History at 0x1cd8960f9a0>"
      ]
     },
     "execution_count": 7,
     "metadata": {},
     "output_type": "execute_result"
    }
   ],
   "source": [
    "model = Sequential()\n",
    "\n",
    "model.add(Dense(76, activation='sigmoid'))\n",
    "# model.add(Dropout(0.2))\n",
    "\n",
    "model.add(Dense(38, activation='sigmoid'))\n",
    "# model.add(Dropout(0.2))\n",
    "\n",
    "model.add(Dense(19, activation='sigmoid'))\n",
    "model.add(Dropout(0.5))\n",
    "\n",
    "model.add(Dense(1, activation='sigmoid'))\n",
    "\n",
    "model.compile(loss = 'binary_crossentropy', optimizer = 'adam', metrics=['accuracy'])\n",
    "\n",
    "model.fit(x = X_train, y = y_train, epochs = 30, batch_size = 256, validation_data=(X_test, y_test), callbacks=[early_stop, board])"
   ]
  },
  {
   "cell_type": "code",
   "execution_count": null,
   "id": "7a36abcc",
   "metadata": {},
   "outputs": [],
   "source": []
  },
  {
   "cell_type": "markdown",
   "id": "caa69e91",
   "metadata": {},
   "source": [
    "# Saving the Model"
   ]
  },
  {
   "cell_type": "code",
   "execution_count": 8,
   "id": "49932e02",
   "metadata": {},
   "outputs": [],
   "source": [
    "model.save('final_model.h5')"
   ]
  },
  {
   "cell_type": "code",
   "execution_count": null,
   "id": "eeae8ad7",
   "metadata": {},
   "outputs": [],
   "source": []
  },
  {
   "cell_type": "markdown",
   "id": "0e88472b",
   "metadata": {},
   "source": [
    "# Evaluating the Model"
   ]
  },
  {
   "cell_type": "code",
   "execution_count": 9,
   "id": "2212abc6",
   "metadata": {},
   "outputs": [],
   "source": [
    "losses = pd.DataFrame(model.history.history)"
   ]
  },
  {
   "cell_type": "code",
   "execution_count": 10,
   "id": "8c3f6004",
   "metadata": {
    "scrolled": true
   },
   "outputs": [
    {
     "data": {
      "text/html": [
       "<div>\n",
       "<style scoped>\n",
       "    .dataframe tbody tr th:only-of-type {\n",
       "        vertical-align: middle;\n",
       "    }\n",
       "\n",
       "    .dataframe tbody tr th {\n",
       "        vertical-align: top;\n",
       "    }\n",
       "\n",
       "    .dataframe thead th {\n",
       "        text-align: right;\n",
       "    }\n",
       "</style>\n",
       "<table border=\"1\" class=\"dataframe\">\n",
       "  <thead>\n",
       "    <tr style=\"text-align: right;\">\n",
       "      <th></th>\n",
       "      <th>loss</th>\n",
       "      <th>accuracy</th>\n",
       "      <th>val_loss</th>\n",
       "      <th>val_accuracy</th>\n",
       "    </tr>\n",
       "  </thead>\n",
       "  <tbody>\n",
       "    <tr>\n",
       "      <th>0</th>\n",
       "      <td>0.373493</td>\n",
       "      <td>0.848287</td>\n",
       "      <td>0.273538</td>\n",
       "      <td>0.886440</td>\n",
       "    </tr>\n",
       "    <tr>\n",
       "      <th>1</th>\n",
       "      <td>0.277904</td>\n",
       "      <td>0.886805</td>\n",
       "      <td>0.262599</td>\n",
       "      <td>0.887365</td>\n",
       "    </tr>\n",
       "    <tr>\n",
       "      <th>2</th>\n",
       "      <td>0.269026</td>\n",
       "      <td>0.888021</td>\n",
       "      <td>0.261089</td>\n",
       "      <td>0.887483</td>\n",
       "    </tr>\n",
       "    <tr>\n",
       "      <th>3</th>\n",
       "      <td>0.266135</td>\n",
       "      <td>0.887848</td>\n",
       "      <td>0.261964</td>\n",
       "      <td>0.887357</td>\n",
       "    </tr>\n",
       "    <tr>\n",
       "      <th>4</th>\n",
       "      <td>0.264579</td>\n",
       "      <td>0.887941</td>\n",
       "      <td>0.261126</td>\n",
       "      <td>0.887424</td>\n",
       "    </tr>\n",
       "    <tr>\n",
       "      <th>5</th>\n",
       "      <td>0.263911</td>\n",
       "      <td>0.887830</td>\n",
       "      <td>0.260797</td>\n",
       "      <td>0.887281</td>\n",
       "    </tr>\n",
       "    <tr>\n",
       "      <th>6</th>\n",
       "      <td>0.263353</td>\n",
       "      <td>0.888226</td>\n",
       "      <td>0.260177</td>\n",
       "      <td>0.887643</td>\n",
       "    </tr>\n",
       "    <tr>\n",
       "      <th>7</th>\n",
       "      <td>0.263168</td>\n",
       "      <td>0.888017</td>\n",
       "      <td>0.262457</td>\n",
       "      <td>0.887424</td>\n",
       "    </tr>\n",
       "    <tr>\n",
       "      <th>8</th>\n",
       "      <td>0.262905</td>\n",
       "      <td>0.888082</td>\n",
       "      <td>0.262145</td>\n",
       "      <td>0.887214</td>\n",
       "    </tr>\n",
       "    <tr>\n",
       "      <th>9</th>\n",
       "      <td>0.262647</td>\n",
       "      <td>0.888024</td>\n",
       "      <td>0.262324</td>\n",
       "      <td>0.887542</td>\n",
       "    </tr>\n",
       "    <tr>\n",
       "      <th>10</th>\n",
       "      <td>0.262601</td>\n",
       "      <td>0.888086</td>\n",
       "      <td>0.261076</td>\n",
       "      <td>0.887736</td>\n",
       "    </tr>\n",
       "    <tr>\n",
       "      <th>11</th>\n",
       "      <td>0.262499</td>\n",
       "      <td>0.888039</td>\n",
       "      <td>0.260703</td>\n",
       "      <td>0.887450</td>\n",
       "    </tr>\n",
       "    <tr>\n",
       "      <th>12</th>\n",
       "      <td>0.262538</td>\n",
       "      <td>0.887959</td>\n",
       "      <td>0.260215</td>\n",
       "      <td>0.886768</td>\n",
       "    </tr>\n",
       "    <tr>\n",
       "      <th>13</th>\n",
       "      <td>0.261971</td>\n",
       "      <td>0.888363</td>\n",
       "      <td>0.260772</td>\n",
       "      <td>0.887534</td>\n",
       "    </tr>\n",
       "    <tr>\n",
       "      <th>14</th>\n",
       "      <td>0.262055</td>\n",
       "      <td>0.888140</td>\n",
       "      <td>0.260114</td>\n",
       "      <td>0.887525</td>\n",
       "    </tr>\n",
       "    <tr>\n",
       "      <th>15</th>\n",
       "      <td>0.262114</td>\n",
       "      <td>0.888147</td>\n",
       "      <td>0.261215</td>\n",
       "      <td>0.887357</td>\n",
       "    </tr>\n",
       "    <tr>\n",
       "      <th>16</th>\n",
       "      <td>0.261906</td>\n",
       "      <td>0.887858</td>\n",
       "      <td>0.261139</td>\n",
       "      <td>0.887610</td>\n",
       "    </tr>\n",
       "    <tr>\n",
       "      <th>17</th>\n",
       "      <td>0.262175</td>\n",
       "      <td>0.888035</td>\n",
       "      <td>0.260324</td>\n",
       "      <td>0.887610</td>\n",
       "    </tr>\n",
       "    <tr>\n",
       "      <th>18</th>\n",
       "      <td>0.261894</td>\n",
       "      <td>0.888158</td>\n",
       "      <td>0.260741</td>\n",
       "      <td>0.887029</td>\n",
       "    </tr>\n",
       "    <tr>\n",
       "      <th>19</th>\n",
       "      <td>0.261863</td>\n",
       "      <td>0.888125</td>\n",
       "      <td>0.260114</td>\n",
       "      <td>0.887643</td>\n",
       "    </tr>\n",
       "    <tr>\n",
       "      <th>20</th>\n",
       "      <td>0.261869</td>\n",
       "      <td>0.887909</td>\n",
       "      <td>0.260412</td>\n",
       "      <td>0.887509</td>\n",
       "    </tr>\n",
       "    <tr>\n",
       "      <th>21</th>\n",
       "      <td>0.261508</td>\n",
       "      <td>0.888201</td>\n",
       "      <td>0.259635</td>\n",
       "      <td>0.887870</td>\n",
       "    </tr>\n",
       "    <tr>\n",
       "      <th>22</th>\n",
       "      <td>0.261625</td>\n",
       "      <td>0.888176</td>\n",
       "      <td>0.260475</td>\n",
       "      <td>0.887534</td>\n",
       "    </tr>\n",
       "    <tr>\n",
       "      <th>23</th>\n",
       "      <td>0.261343</td>\n",
       "      <td>0.888014</td>\n",
       "      <td>0.261515</td>\n",
       "      <td>0.887441</td>\n",
       "    </tr>\n",
       "    <tr>\n",
       "      <th>24</th>\n",
       "      <td>0.261212</td>\n",
       "      <td>0.888381</td>\n",
       "      <td>0.259619</td>\n",
       "      <td>0.887542</td>\n",
       "    </tr>\n",
       "    <tr>\n",
       "      <th>25</th>\n",
       "      <td>0.261558</td>\n",
       "      <td>0.888169</td>\n",
       "      <td>0.260412</td>\n",
       "      <td>0.887450</td>\n",
       "    </tr>\n",
       "    <tr>\n",
       "      <th>26</th>\n",
       "      <td>0.261122</td>\n",
       "      <td>0.888280</td>\n",
       "      <td>0.260697</td>\n",
       "      <td>0.887458</td>\n",
       "    </tr>\n",
       "    <tr>\n",
       "      <th>27</th>\n",
       "      <td>0.261125</td>\n",
       "      <td>0.888122</td>\n",
       "      <td>0.260127</td>\n",
       "      <td>0.887517</td>\n",
       "    </tr>\n",
       "    <tr>\n",
       "      <th>28</th>\n",
       "      <td>0.260945</td>\n",
       "      <td>0.888143</td>\n",
       "      <td>0.260112</td>\n",
       "      <td>0.887500</td>\n",
       "    </tr>\n",
       "    <tr>\n",
       "      <th>29</th>\n",
       "      <td>0.261138</td>\n",
       "      <td>0.887880</td>\n",
       "      <td>0.259820</td>\n",
       "      <td>0.887601</td>\n",
       "    </tr>\n",
       "  </tbody>\n",
       "</table>\n",
       "</div>"
      ],
      "text/plain": [
       "        loss  accuracy  val_loss  val_accuracy\n",
       "0   0.373493  0.848287  0.273538      0.886440\n",
       "1   0.277904  0.886805  0.262599      0.887365\n",
       "2   0.269026  0.888021  0.261089      0.887483\n",
       "3   0.266135  0.887848  0.261964      0.887357\n",
       "4   0.264579  0.887941  0.261126      0.887424\n",
       "5   0.263911  0.887830  0.260797      0.887281\n",
       "6   0.263353  0.888226  0.260177      0.887643\n",
       "7   0.263168  0.888017  0.262457      0.887424\n",
       "8   0.262905  0.888082  0.262145      0.887214\n",
       "9   0.262647  0.888024  0.262324      0.887542\n",
       "10  0.262601  0.888086  0.261076      0.887736\n",
       "11  0.262499  0.888039  0.260703      0.887450\n",
       "12  0.262538  0.887959  0.260215      0.886768\n",
       "13  0.261971  0.888363  0.260772      0.887534\n",
       "14  0.262055  0.888140  0.260114      0.887525\n",
       "15  0.262114  0.888147  0.261215      0.887357\n",
       "16  0.261906  0.887858  0.261139      0.887610\n",
       "17  0.262175  0.888035  0.260324      0.887610\n",
       "18  0.261894  0.888158  0.260741      0.887029\n",
       "19  0.261863  0.888125  0.260114      0.887643\n",
       "20  0.261869  0.887909  0.260412      0.887509\n",
       "21  0.261508  0.888201  0.259635      0.887870\n",
       "22  0.261625  0.888176  0.260475      0.887534\n",
       "23  0.261343  0.888014  0.261515      0.887441\n",
       "24  0.261212  0.888381  0.259619      0.887542\n",
       "25  0.261558  0.888169  0.260412      0.887450\n",
       "26  0.261122  0.888280  0.260697      0.887458\n",
       "27  0.261125  0.888122  0.260127      0.887517\n",
       "28  0.260945  0.888143  0.260112      0.887500\n",
       "29  0.261138  0.887880  0.259820      0.887601"
      ]
     },
     "execution_count": 10,
     "metadata": {},
     "output_type": "execute_result"
    }
   ],
   "source": [
    "losses"
   ]
  },
  {
   "cell_type": "code",
   "execution_count": null,
   "id": "b3a1609a",
   "metadata": {},
   "outputs": [],
   "source": []
  },
  {
   "cell_type": "markdown",
   "id": "70ba6bbb",
   "metadata": {},
   "source": [
    "## Plotting loss and val_loss over epochs"
   ]
  },
  {
   "cell_type": "code",
   "execution_count": 11,
   "id": "1eff06c0",
   "metadata": {},
   "outputs": [
    {
     "data": {
      "text/plain": [
       "<AxesSubplot:>"
      ]
     },
     "execution_count": 11,
     "metadata": {},
     "output_type": "execute_result"
    },
    {
     "data": {
      "image/png": "[encoded data removed]",
      "text/plain": [
       "<Figure size 432x288 with 1 Axes>"
      ]
     },
     "metadata": {
      "needs_background": "light"
     },
     "output_type": "display_data"
    }
   ],
   "source": [
    "losses[['loss', 'val_loss']].plot()"
   ]
  },
  {
   "cell_type": "code",
   "execution_count": null,
   "id": "6a50db3e",
   "metadata": {},
   "outputs": [],
   "source": []
  },
  {
   "cell_type": "markdown",
   "id": "72f486bf",
   "metadata": {},
   "source": [
    "## Predictions"
   ]
  },
  {
   "cell_type": "code",
   "execution_count": 12,
   "id": "72c9eac2",
   "metadata": {},
   "outputs": [],
   "source": [
    "from sklearn.metrics import classification_report, confusion_matrix"
   ]
  },
  {
   "cell_type": "code",
   "execution_count": 13,
   "id": "0ae5fd81",
   "metadata": {},
   "outputs": [],
   "source": [
    "predictions = model.predict(X_test)"
   ]
  },
  {
   "cell_type": "code",
   "execution_count": 14,
   "id": "6a8750c0",
   "metadata": {},
   "outputs": [],
   "source": [
    "predictions = pd.DataFrame(predictions)[0]"
   ]
  },
  {
   "cell_type": "code",
   "execution_count": 15,
   "id": "c402cacc",
   "metadata": {},
   "outputs": [],
   "source": [
    "predictions = predictions.apply(lambda x: 1 if x > 0.5 else 0)"
   ]
  },
  {
   "cell_type": "code",
   "execution_count": 16,
   "id": "88b57d0e",
   "metadata": {},
   "outputs": [
    {
     "name": "stdout",
     "output_type": "stream",
     "text": [
      "              precision    recall  f1-score   support\n",
      "\n",
      "           0       0.99      0.43      0.60     23415\n",
      "           1       0.88      1.00      0.93     95394\n",
      "\n",
      "    accuracy                           0.89    118809\n",
      "   macro avg       0.93      0.72      0.77    118809\n",
      "weighted avg       0.90      0.89      0.87    118809\n",
      "\n"
     ]
    }
   ],
   "source": [
    "print(classification_report(y_test, predictions))"
   ]
  },
  {
   "cell_type": "code",
   "execution_count": 17,
   "id": "670b5033",
   "metadata": {},
   "outputs": [
    {
     "name": "stdout",
     "output_type": "stream",
     "text": [
      "[[10142 13273]\n",
      " [   81 95313]]\n"
     ]
    }
   ],
   "source": [
    "print(confusion_matrix(y_test, predictions))"
   ]
  },
  {
   "cell_type": "code",
   "execution_count": null,
   "id": "b50af095",
   "metadata": {},
   "outputs": [],
   "source": []
  },
  {
   "cell_type": "code",
   "execution_count": null,
   "id": "f4f2c799",
   "metadata": {},
   "outputs": [],
   "source": []
  }
 ],
 "metadata": {
  "kernelspec": {
   "display_name": "Python 3 (ipykernel)",
   "language": "python",
   "name": "python3"
  },
  "language_info": {
   "codemirror_mode": {
    "name": "ipython",
    "version": 3
   },
   "file_extension": ".py",
   "mimetype": "text/x-python",
   "name": "python",
   "nbconvert_exporter": "python",
   "pygments_lexer": "ipython3",
   "version": "3.9.7"
  },
  "toc": {
   "base_numbering": 1,
   "nav_menu": {},
   "number_sections": true,
   "sideBar": true,
   "skip_h1_title": false,
   "title_cell": "Table of Contents",
   "title_sidebar": "Contents",
   "toc_cell": false,
   "toc_position": {},
   "toc_section_display": true,
   "toc_window_display": false
  },
  "varInspector": {
   "cols": {
    "lenName": 16,
    "lenType": 16,
    "lenVar": 40
   },
   "kernels_config": {
    "python": {
     "delete_cmd_postfix": "",
     "delete_cmd_prefix": "del ",
     "library": "var_list.py",
     "varRefreshCmd": "print(var_dic_list())"
    },
    "r": {
     "delete_cmd_postfix": ") ",
     "delete_cmd_prefix": "rm(",
     "library": "var_list.r",
     "varRefreshCmd": "cat(var_dic_list()) "
    }
   },
   "types_to_exclude": [
    "module",
    "function",
    "builtin_function_or_method",
    "instance",
    "_Feature"
   ],
   "window_display": false
  }
 },
 "nbformat": 4,
 "nbformat_minor": 5
}

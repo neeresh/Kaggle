{
 "cells": [
  {
   "cell_type": "code",
   "execution_count": 1,
   "id": "6e15aa27",
   "metadata": {},
   "outputs": [],
   "source": [
    "import pandas as pd\n",
    "import seaborn as sns"
   ]
  },
  {
   "cell_type": "markdown",
   "id": "d8ca7f89",
   "metadata": {},
   "source": [
    "# Helper Method"
   ]
  },
  {
   "cell_type": "code",
   "execution_count": 2,
   "id": "3c30cb5d",
   "metadata": {},
   "outputs": [],
   "source": [
    "def map_target(category):\n",
    "    mappings = {'DOKOL': 0, 'SAFAVI': 1, 'ROTANA': 2, 'DEGLET': 3, \n",
    "                'SOGAY': 4, 'IRAQI': 5, 'BERHI': 6}\n",
    "    \n",
    "    return mappings[category]"
   ]
  },
  {
   "cell_type": "code",
   "execution_count": null,
   "id": "46963173",
   "metadata": {},
   "outputs": [],
   "source": []
  },
  {
   "cell_type": "markdown",
   "id": "1f284e99",
   "metadata": {},
   "source": [
    "# Importing dataset"
   ]
  },
  {
   "cell_type": "code",
   "execution_count": 3,
   "id": "fea476e8",
   "metadata": {},
   "outputs": [],
   "source": [
    "dataset = pd.read_excel('Date_Fruit_Datasets.xlsx')"
   ]
  },
  {
   "cell_type": "code",
   "execution_count": null,
   "id": "0c3bcd17",
   "metadata": {},
   "outputs": [],
   "source": []
  },
  {
   "cell_type": "markdown",
   "id": "a5c58f86",
   "metadata": {},
   "source": [
    "# Target Variables"
   ]
  },
  {
   "cell_type": "code",
   "execution_count": 4,
   "id": "06f5de59",
   "metadata": {},
   "outputs": [
    {
     "name": "stdout",
     "output_type": "stream",
     "text": [
      "{'DOKOL': 204, 'SAFAVI': 199, 'ROTANA': 166, 'DEGLET': 98, 'SOGAY': 94, 'IRAQI': 72, 'BERHI': 65}\n"
     ]
    }
   ],
   "source": [
    "print(dict(dataset['Class'].value_counts()))"
   ]
  },
  {
   "cell_type": "code",
   "execution_count": null,
   "id": "d93203e9",
   "metadata": {},
   "outputs": [],
   "source": []
  },
  {
   "cell_type": "markdown",
   "id": "6cae7a35",
   "metadata": {},
   "source": [
    "# Numerical Features"
   ]
  },
  {
   "cell_type": "markdown",
   "id": "3100fede",
   "metadata": {},
   "source": [
    "## Missing Features"
   ]
  },
  {
   "cell_type": "code",
   "execution_count": 5,
   "id": "cd1fa76c",
   "metadata": {},
   "outputs": [
    {
     "name": "stdout",
     "output_type": "stream",
     "text": [
      "AREA             0\n",
      "PERIMETER        0\n",
      "MAJOR_AXIS       0\n",
      "MINOR_AXIS       0\n",
      "ECCENTRICITY     0\n",
      "EQDIASQ          0\n",
      "SOLIDITY         0\n",
      "CONVEX_AREA      0\n",
      "EXTENT           0\n",
      "ASPECT_RATIO     0\n",
      "ROUNDNESS        0\n",
      "COMPACTNESS      0\n",
      "SHAPEFACTOR_1    0\n",
      "SHAPEFACTOR_2    0\n",
      "SHAPEFACTOR_3    0\n",
      "SHAPEFACTOR_4    0\n",
      "MeanRR           0\n",
      "MeanRG           0\n",
      "MeanRB           0\n",
      "StdDevRR         0\n",
      "StdDevRG         0\n",
      "StdDevRB         0\n",
      "SkewRR           0\n",
      "SkewRG           0\n",
      "SkewRB           0\n",
      "KurtosisRR       0\n",
      "KurtosisRG       0\n",
      "KurtosisRB       0\n",
      "EntropyRR        0\n",
      "EntropyRG        0\n",
      "EntropyRB        0\n",
      "ALLdaub4RR       0\n",
      "ALLdaub4RG       0\n",
      "ALLdaub4RB       0\n",
      "Class            0\n",
      "dtype: int64\n"
     ]
    }
   ],
   "source": [
    "print(dataset.isnull().sum())"
   ]
  },
  {
   "cell_type": "code",
   "execution_count": null,
   "id": "80f9cc57",
   "metadata": {},
   "outputs": [],
   "source": []
  },
  {
   "cell_type": "markdown",
   "id": "be56f62b",
   "metadata": {},
   "source": [
    "# Splitting dataset"
   ]
  },
  {
   "cell_type": "code",
   "execution_count": 6,
   "id": "e7e6c2f7",
   "metadata": {},
   "outputs": [],
   "source": [
    "from sklearn.model_selection import train_test_split\n",
    "\n",
    "X_train, X_test, y_train, y_test = train_test_split(dataset.drop(['Class'], axis=1),\n",
    "                                                    dataset['Class'],\n",
    "                                                    test_size = 0.3,\n",
    "                                                    random_state = 24)\n"
   ]
  },
  {
   "cell_type": "code",
   "execution_count": 7,
   "id": "cf9093c1",
   "metadata": {},
   "outputs": [],
   "source": [
    "y_train = y_train.apply(map_target)\n",
    "y_test = y_test.apply(map_target)"
   ]
  },
  {
   "cell_type": "code",
   "execution_count": null,
   "id": "24bf6f88",
   "metadata": {},
   "outputs": [],
   "source": []
  },
  {
   "cell_type": "markdown",
   "id": "331dcdf6",
   "metadata": {},
   "source": [
    "# Standardization"
   ]
  },
  {
   "cell_type": "code",
   "execution_count": 8,
   "id": "83630e00",
   "metadata": {},
   "outputs": [],
   "source": [
    "from sklearn.preprocessing import StandardScaler\n",
    "\n",
    "scaler = StandardScaler()\n",
    "scaler.fit(X_train, y_train)\n",
    "\n",
    "X_train = scaler.transform(X_train)\n",
    "X_test = scaler.transform(X_test)"
   ]
  },
  {
   "cell_type": "code",
   "execution_count": null,
   "id": "14a888c1",
   "metadata": {},
   "outputs": [],
   "source": []
  },
  {
   "cell_type": "markdown",
   "id": "0754c22a",
   "metadata": {},
   "source": [
    "# Creating Model"
   ]
  },
  {
   "cell_type": "code",
   "execution_count": 9,
   "id": "8e0e9ab6",
   "metadata": {},
   "outputs": [],
   "source": [
    "from sklearn.linear_model import LogisticRegression\n",
    "\n",
    "logit = LogisticRegression(random_state = 24, multi_class='ovr')\n",
    "logit.fit(X_train, y_train)\n",
    "\n",
    "pred_train = logit.predict(X_train)\n",
    "pred_train_probs = logit.predict_proba(X_train)\n",
    "\n",
    "pred_test = logit.predict(X_test)\n",
    "pred_test_probs = logit.predict_proba(X_test)"
   ]
  },
  {
   "cell_type": "code",
   "execution_count": null,
   "id": "a1cfbbb8",
   "metadata": {},
   "outputs": [],
   "source": []
  },
  {
   "cell_type": "markdown",
   "id": "815eb0d5",
   "metadata": {},
   "source": [
    "# Evaluation Metrics"
   ]
  },
  {
   "cell_type": "code",
   "execution_count": 10,
   "id": "df283401",
   "metadata": {},
   "outputs": [
    {
     "name": "stdout",
     "output_type": "stream",
     "text": [
      "train roc-auc: 0.9958735737256996\n",
      "train accuracy: 0.9426751592356688\n",
      "\n",
      "test roc-auc: 0.9869963982753122\n",
      "test accuracy: 0.9\n"
     ]
    }
   ],
   "source": [
    "from sklearn.metrics import roc_auc_score, accuracy_score\n",
    "\n",
    "print('train roc-auc: {}'.format(roc_auc_score(y_train, pred_train_probs, multi_class='ovr')))\n",
    "print('train accuracy: {}'.format(accuracy_score(y_train, pred_train)))\n",
    "print()\n",
    "print('test roc-auc: {}'.format(roc_auc_score(y_test, pred_test_probs, multi_class='ovr')))\n",
    "print('test accuracy: {}'.format(accuracy_score(y_test, pred_test)))"
   ]
  },
  {
   "cell_type": "code",
   "execution_count": null,
   "id": "a90e7a21",
   "metadata": {},
   "outputs": [],
   "source": []
  },
  {
   "cell_type": "code",
   "execution_count": 11,
   "id": "980a14bf",
   "metadata": {},
   "outputs": [
    {
     "name": "stdout",
     "output_type": "stream",
     "text": [
      "Confusion Matrix for train set: \n",
      " AxesSubplot(0.125,0.125;0.62x0.755)\n"
     ]
    },
    {
     "data": {
      "image/png": "[encoded data removed]",
      "text/plain": [
       "<Figure size 432x288 with 2 Axes>"
      ]
     },
     "metadata": {
      "needs_background": "light"
     },
     "output_type": "display_data"
    }
   ],
   "source": [
    "# Confusion Matrix\n",
    "from sklearn.metrics import confusion_matrix\n",
    "\n",
    "print('Confusion Matrix for train set: \\n', sns.heatmap(confusion_matrix(y_train, pred_train), annot=True, linewidths=0.4))"
   ]
  },
  {
   "cell_type": "code",
   "execution_count": 12,
   "id": "72447f46",
   "metadata": {},
   "outputs": [
    {
     "name": "stdout",
     "output_type": "stream",
     "text": [
      "Confusion Matrix for test set: \n",
      " AxesSubplot(0.125,0.125;0.62x0.755)\n"
     ]
    },
    {
     "data": {
      "image/png": "[encoded data removed]",
      "text/plain": [
       "<Figure size 432x288 with 2 Axes>"
      ]
     },
     "metadata": {
      "needs_background": "light"
     },
     "output_type": "display_data"
    }
   ],
   "source": [
    "print('Confusion Matrix for test set: \\n', sns.heatmap(confusion_matrix(y_test, pred_test), annot=True, linewidths=0.4))"
   ]
  },
  {
   "cell_type": "code",
   "execution_count": null,
   "id": "c7204010",
   "metadata": {},
   "outputs": [],
   "source": []
  },
  {
   "cell_type": "code",
   "execution_count": 13,
   "id": "c27608d5",
   "metadata": {},
   "outputs": [
    {
     "data": {
      "image/png": "[encoded data removed]",
      "text/plain": [
       "<Figure size 576x396 with 1 Axes>"
      ]
     },
     "metadata": {},
     "output_type": "display_data"
    },
    {
     "data": {
      "text/plain": [
       "<AxesSubplot:title={'center':'ROC Curves for LogisticRegression'}, xlabel='False Positive Rate', ylabel='True Positive Rate'>"
      ]
     },
     "execution_count": 13,
     "metadata": {},
     "output_type": "execute_result"
    }
   ],
   "source": [
    "# Plotting ROC-AUC\n",
    "from yellowbrick.classifier import ROCAUC\n",
    "\n",
    "visualizer = ROCAUC(logit, classes=[0, 1, 2, 3, 4, 5, 6])\n",
    "visualizer.fit(X_train, y_train)        \n",
    "visualizer.score(X_test, y_test)        \n",
    "visualizer.show()\n"
   ]
  },
  {
   "cell_type": "code",
   "execution_count": null,
   "id": "7096b31c",
   "metadata": {},
   "outputs": [],
   "source": []
  }
 ],
 "metadata": {
  "kernelspec": {
   "display_name": "Python 3 (ipykernel)",
   "language": "python",
   "name": "python3"
  },
  "language_info": {
   "codemirror_mode": {
    "name": "ipython",
    "version": 3
   },
   "file_extension": ".py",
   "mimetype": "text/x-python",
   "name": "python",
   "nbconvert_exporter": "python",
   "pygments_lexer": "ipython3",
   "version": "3.9.7"
  },
  "toc": {
   "base_numbering": 1,
   "nav_menu": {},
   "number_sections": true,
   "sideBar": true,
   "skip_h1_title": false,
   "title_cell": "Table of Contents",
   "title_sidebar": "Contents",
   "toc_cell": false,
   "toc_position": {},
   "toc_section_display": true,
   "toc_window_display": false
  },
  "varInspector": {
   "cols": {
    "lenName": 16,
    "lenType": 16,
    "lenVar": 40
   },
   "kernels_config": {
    "python": {
     "delete_cmd_postfix": "",
     "delete_cmd_prefix": "del ",
     "library": "var_list.py",
     "varRefreshCmd": "print(var_dic_list())"
    },
    "r": {
     "delete_cmd_postfix": ") ",
     "delete_cmd_prefix": "rm(",
     "library": "var_list.r",
     "varRefreshCmd": "cat(var_dic_list()) "
    }
   },
   "types_to_exclude": [
    "module",
    "function",
    "builtin_function_or_method",
    "instance",
    "_Feature"
   ],
   "window_display": false
  }
 },
 "nbformat": 4,
 "nbformat_minor": 5
}
